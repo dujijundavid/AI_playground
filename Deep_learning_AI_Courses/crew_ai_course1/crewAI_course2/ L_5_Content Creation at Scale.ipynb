{
 "cells": [
  {
   "cell_type": "markdown",
   "id": "bae53a09-c04c-4916-a146-00e0bb188954",
   "metadata": {},
   "source": [
    "# L5: Content Creation at Scale"
   ]
  },
  {
   "cell_type": "markdown",
   "id": "23550af3-e024-4c96-b29c-fce37cbd9735",
   "metadata": {},
   "source": [
    "<p style=\"background-color:#fff6e4; padding:15px; border-width:3px; border-color:#f5ecda; border-style:solid; border-radius:6px\"> ⏳ <b>Note <code>(Kernel Starting)</code>:</b> This notebook takes about 30 seconds to be ready to use. You may start and watch the video while you wait.</p>"
   ]
  },
  {
   "cell_type": "markdown",
   "id": "ece8c6f9-763c-47ea-b8e8-65001bd08aae",
   "metadata": {},
   "source": [
    "## Initial Imports"
   ]
  },
  {
   "cell_type": "code",
   "execution_count": 1,
   "id": "41d1ce58-9d2e-4349-acbd-49227e37d31c",
   "metadata": {
    "height": 200
   },
   "outputs": [],
   "source": [
    "# Warning control\n",
    "import warnings\n",
    "warnings.filterwarnings('ignore')\n",
    "\n",
    "# Load environment variables\n",
    "from helper import load_env\n",
    "load_env()\n",
    "\n",
    "import os\n",
    "import yaml\n",
    "from crewai import Agent, Task, Crew"
   ]
  },
  {
   "cell_type": "markdown",
   "id": "56b61133-2f25-4275-b229-d7dc80bae8a5",
   "metadata": {},
   "source": [
    "<p style=\"background-color:#fff6ff; padding:15px; border-width:3px; border-color:#efe6ef; border-style:solid; border-radius:6px\"> 💻 &nbsp; <b>Access <code>requirements.txt</code> and <code>helper.py</code> files:</b> 1) click on the <em>\"File\"</em> option on the top menu of the notebook and then 2) click on <em>\"Open\"</em>. For more help, please see the <em>\"Appendix - Tips and Help\"</em> Lesson.</p>"
   ]
  },
  {
   "cell_type": "markdown",
   "id": "57b9bbe5-e31b-4267-828b-45c98edda89e",
   "metadata": {},
   "source": [
    "## Creating Structured Output"
   ]
  },
  {
   "cell_type": "code",
   "execution_count": 2,
   "id": "0f171b23-b3cc-48c9-a8ba-07358e271e63",
   "metadata": {
    "height": 183
   },
   "outputs": [],
   "source": [
    "from pydantic import BaseModel, Field\n",
    "from typing import List\n",
    "\n",
    "class SocialMediaPost(BaseModel):\n",
    "    platform: str = Field(..., description=\"The social media platform where the post will be published (e.g., Twitter, LinkedIn).\")\n",
    "    content: str = Field(..., description=\"The content of the social media post, including any hashtags or mentions.\")\n",
    "\n",
    "class ContentOutput(BaseModel):\n",
    "    article: str = Field(..., description=\"The article, formatted in markdown.\")\n",
    "    social_media_posts: List[SocialMediaPost] = Field(..., description=\"A list of social media posts related to the article.\")"
   ]
  },
  {
   "cell_type": "markdown",
   "id": "dd03a195-a1a5-4667-9108-24a7f9094618",
   "metadata": {},
   "source": [
    "## Loading Tasks and Agents YAML files"
   ]
  },
  {
   "cell_type": "code",
   "execution_count": 3,
   "id": "f58e827a-8e2e-4f1d-8f8c-9486828f951d",
   "metadata": {
    "height": 268
   },
   "outputs": [
    {
     "ename": "FileNotFoundError",
     "evalue": "[Errno 2] No such file or directory: 'config/agents.yaml'",
     "output_type": "error",
     "traceback": [
      "\u001b[0;31m---------------------------------------------------------------------------\u001b[0m",
      "\u001b[0;31mFileNotFoundError\u001b[0m                         Traceback (most recent call last)",
      "Cell \u001b[0;32mIn[3], line 10\u001b[0m\n\u001b[1;32m      8\u001b[0m configs \u001b[38;5;241m=\u001b[39m {}\n\u001b[1;32m      9\u001b[0m \u001b[38;5;28;01mfor\u001b[39;00m config_type, file_path \u001b[38;5;129;01min\u001b[39;00m files\u001b[38;5;241m.\u001b[39mitems():\n\u001b[0;32m---> 10\u001b[0m     \u001b[38;5;28;01mwith\u001b[39;00m \u001b[38;5;28;43mopen\u001b[39;49m\u001b[43m(\u001b[49m\u001b[43mfile_path\u001b[49m\u001b[43m,\u001b[49m\u001b[43m \u001b[49m\u001b[38;5;124;43m'\u001b[39;49m\u001b[38;5;124;43mr\u001b[39;49m\u001b[38;5;124;43m'\u001b[39;49m\u001b[43m)\u001b[49m \u001b[38;5;28;01mas\u001b[39;00m file:\n\u001b[1;32m     11\u001b[0m         configs[config_type] \u001b[38;5;241m=\u001b[39m yaml\u001b[38;5;241m.\u001b[39msafe_load(file)\n\u001b[1;32m     13\u001b[0m \u001b[38;5;66;03m# Assign loaded configurations to specific variables\u001b[39;00m\n",
      "File \u001b[0;32m~/miniconda3/lib/python3.10/site-packages/IPython/core/interactiveshell.py:282\u001b[0m, in \u001b[0;36m_modified_open\u001b[0;34m(file, *args, **kwargs)\u001b[0m\n\u001b[1;32m    275\u001b[0m \u001b[38;5;28;01mif\u001b[39;00m file \u001b[38;5;129;01min\u001b[39;00m {\u001b[38;5;241m0\u001b[39m, \u001b[38;5;241m1\u001b[39m, \u001b[38;5;241m2\u001b[39m}:\n\u001b[1;32m    276\u001b[0m     \u001b[38;5;28;01mraise\u001b[39;00m \u001b[38;5;167;01mValueError\u001b[39;00m(\n\u001b[1;32m    277\u001b[0m         \u001b[38;5;124mf\u001b[39m\u001b[38;5;124m\"\u001b[39m\u001b[38;5;124mIPython won\u001b[39m\u001b[38;5;124m'\u001b[39m\u001b[38;5;124mt let you open fd=\u001b[39m\u001b[38;5;132;01m{\u001b[39;00mfile\u001b[38;5;132;01m}\u001b[39;00m\u001b[38;5;124m by default \u001b[39m\u001b[38;5;124m\"\u001b[39m\n\u001b[1;32m    278\u001b[0m         \u001b[38;5;124m\"\u001b[39m\u001b[38;5;124mas it is likely to crash IPython. If you know what you are doing, \u001b[39m\u001b[38;5;124m\"\u001b[39m\n\u001b[1;32m    279\u001b[0m         \u001b[38;5;124m\"\u001b[39m\u001b[38;5;124myou can use builtins\u001b[39m\u001b[38;5;124m'\u001b[39m\u001b[38;5;124m open.\u001b[39m\u001b[38;5;124m\"\u001b[39m\n\u001b[1;32m    280\u001b[0m     )\n\u001b[0;32m--> 282\u001b[0m \u001b[38;5;28;01mreturn\u001b[39;00m \u001b[43mio_open\u001b[49m\u001b[43m(\u001b[49m\u001b[43mfile\u001b[49m\u001b[43m,\u001b[49m\u001b[43m \u001b[49m\u001b[38;5;241;43m*\u001b[39;49m\u001b[43margs\u001b[49m\u001b[43m,\u001b[49m\u001b[43m \u001b[49m\u001b[38;5;241;43m*\u001b[39;49m\u001b[38;5;241;43m*\u001b[39;49m\u001b[43mkwargs\u001b[49m\u001b[43m)\u001b[49m\n",
      "\u001b[0;31mFileNotFoundError\u001b[0m: [Errno 2] No such file or directory: 'config/agents.yaml'"
     ]
    }
   ],
   "source": [
    "# Define file paths for YAML configurations\n",
    "files = {\n",
    "    'agents': 'config/agents.yaml',\n",
    "    'tasks': 'config/tasks.yaml'\n",
    "}\n",
    "\n",
    "# Load configurations from YAML files\n",
    "configs = {}\n",
    "for config_type, file_path in files.items():\n",
    "    with open(file_path, 'r') as file:\n",
    "        configs[config_type] = yaml.safe_load(file)\n",
    "\n",
    "# Assign loaded configurations to specific variables\n",
    "agents_config = configs['agents']\n",
    "tasks_config = configs['tasks']"
   ]
  },
  {
   "cell_type": "markdown",
   "id": "e24d40ea-b1cc-42e9-bac2-1467103edfd8",
   "metadata": {},
   "source": [
    "## Importing CrewAI Tools"
   ]
  },
  {
   "cell_type": "code",
   "execution_count": 4,
   "id": "33d2c719-9823-4d12-bd87-219f5145f7dc",
   "metadata": {
    "height": 30
   },
   "outputs": [],
   "source": [
    "from crewai_tools import SerperDevTool, ScrapeWebsiteTool, WebsiteSearchTool"
   ]
  },
  {
   "cell_type": "markdown",
   "id": "0cb0edba-dea0-4547-a61c-88ea6608c1a5",
   "metadata": {},
   "source": [
    "## Setup Multi LLM models"
   ]
  },
  {
   "cell_type": "code",
   "execution_count": 5,
   "id": "a655927f-c10c-4c06-852a-d9c96fdfbfb9",
   "metadata": {
    "height": 47
   },
   "outputs": [],
   "source": [
    "os.environ['OPENAI_MODEL_NAME'] = 'gpt-4o-mini'\n",
    "groq_llm = \"groq/llama-3.1-70b-versatile\""
   ]
  },
  {
   "cell_type": "markdown",
   "id": "d71692a9-ff30-4497-a8df-25bf5b5a100e",
   "metadata": {},
   "source": [
    "## Creating Crew, Agents, and Tasks"
   ]
  },
  {
   "cell_type": "code",
   "execution_count": 6,
   "id": "9e861574-0f9b-4f2c-b2d1-a230fc3a53a3",
   "metadata": {
    "height": 1050
   },
   "outputs": [
    {
     "ename": "NameError",
     "evalue": "name 'agents_config' is not defined",
     "output_type": "error",
     "traceback": [
      "\u001b[0;31m---------------------------------------------------------------------------\u001b[0m",
      "\u001b[0;31mNameError\u001b[0m                                 Traceback (most recent call last)",
      "Cell \u001b[0;32mIn[6], line 3\u001b[0m\n\u001b[1;32m      1\u001b[0m \u001b[38;5;66;03m# Creating Agents\u001b[39;00m\n\u001b[1;32m      2\u001b[0m market_news_monitor_agent \u001b[38;5;241m=\u001b[39m Agent(\n\u001b[0;32m----> 3\u001b[0m     config\u001b[38;5;241m=\u001b[39m\u001b[43magents_config\u001b[49m[\u001b[38;5;124m'\u001b[39m\u001b[38;5;124mmarket_news_monitor_agent\u001b[39m\u001b[38;5;124m'\u001b[39m],\n\u001b[1;32m      4\u001b[0m     tools\u001b[38;5;241m=\u001b[39m[SerperDevTool(), ScrapeWebsiteTool()],\n\u001b[1;32m      5\u001b[0m     llm\u001b[38;5;241m=\u001b[39mgroq_llm,\n\u001b[1;32m      6\u001b[0m )\n\u001b[1;32m      8\u001b[0m data_analyst_agent \u001b[38;5;241m=\u001b[39m Agent(\n\u001b[1;32m      9\u001b[0m     config\u001b[38;5;241m=\u001b[39magents_config[\u001b[38;5;124m'\u001b[39m\u001b[38;5;124mdata_analyst_agent\u001b[39m\u001b[38;5;124m'\u001b[39m],\n\u001b[1;32m     10\u001b[0m     tools\u001b[38;5;241m=\u001b[39m[SerperDevTool(), WebsiteSearchTool()],\n\u001b[1;32m     11\u001b[0m     llm\u001b[38;5;241m=\u001b[39mgroq_llm,\n\u001b[1;32m     12\u001b[0m )\n\u001b[1;32m     14\u001b[0m content_creator_agent \u001b[38;5;241m=\u001b[39m Agent(\n\u001b[1;32m     15\u001b[0m     config\u001b[38;5;241m=\u001b[39magents_config[\u001b[38;5;124m'\u001b[39m\u001b[38;5;124mcontent_creator_agent\u001b[39m\u001b[38;5;124m'\u001b[39m],\n\u001b[1;32m     16\u001b[0m     tools\u001b[38;5;241m=\u001b[39m[SerperDevTool(), WebsiteSearchTool()],\n\u001b[1;32m     17\u001b[0m )\n",
      "\u001b[0;31mNameError\u001b[0m: name 'agents_config' is not defined"
     ]
    }
   ],
   "source": [
    "# Creating Agents\n",
    "market_news_monitor_agent = Agent(\n",
    "    config=agents_config['market_news_monitor_agent'],\n",
    "    tools=[SerperDevTool(), ScrapeWebsiteTool()],\n",
    "    llm=groq_llm,\n",
    ")\n",
    "\n",
    "data_analyst_agent = Agent(\n",
    "    config=agents_config['data_analyst_agent'],\n",
    "    tools=[SerperDevTool(), WebsiteSearchTool()],\n",
    "    llm=groq_llm,\n",
    ")\n",
    "\n",
    "content_creator_agent = Agent(\n",
    "    config=agents_config['content_creator_agent'],\n",
    "    tools=[SerperDevTool(), WebsiteSearchTool()],\n",
    ")\n",
    "\n",
    "quality_assurance_agent = Agent(\n",
    "    config=agents_config['quality_assurance_agent'],\n",
    ")\n",
    "\n",
    "# Creating Tasks\n",
    "monitor_financial_news_task = Task(\n",
    "    config=tasks_config['monitor_financial_news'],\n",
    "    agent=market_news_monitor_agent\n",
    ")\n",
    "\n",
    "analyze_market_data_task = Task(\n",
    "    config=tasks_config['analyze_market_data'],\n",
    "    agent=data_analyst_agent\n",
    ")\n",
    "\n",
    "create_content_task = Task(\n",
    "    config=tasks_config['create_content'],\n",
    "    agent=content_creator_agent,\n",
    "    context=[monitor_financial_news_task, analyze_market_data_task]\n",
    ")\n",
    "\n",
    "quality_assurance_task = Task(\n",
    "    config=tasks_config['quality_assurance'],\n",
    "    agent=quality_assurance_agent,\n",
    "    output_pydantic=ContentOutput\n",
    ")\n",
    "\n",
    "# Creating Crew\n",
    "content_creation_crew = Crew(\n",
    "    agents=[\n",
    "        market_news_monitor_agent,\n",
    "        data_analyst_agent,\n",
    "        content_creator_agent,\n",
    "        quality_assurance_agent\n",
    "    ],\n",
    "    tasks=[\n",
    "        monitor_financial_news_task,\n",
    "        analyze_market_data_task,\n",
    "        create_content_task,\n",
    "        quality_assurance_task\n",
    "    ],\n",
    "    verbose=True\n",
    ")"
   ]
  },
  {
   "cell_type": "markdown",
   "id": "60caa956-a429-424f-b5cc-59ebaa21ba82",
   "metadata": {},
   "source": [
    "## Kicking off the Crew"
   ]
  },
  {
   "cell_type": "code",
   "execution_count": null,
   "id": "831a24e8-055c-4008-844b-270a76c35898",
   "metadata": {
    "height": 64
   },
   "outputs": [],
   "source": [
    "result = content_creation_crew.kickoff(inputs={\n",
    "  'subject': 'Inflation in the US and the impact on the stock market in 2024'\n",
    "})"
   ]
  },
  {
   "cell_type": "markdown",
   "id": "0276872f-fcb9-43e9-9372-e9a6ee35a7e6",
   "metadata": {},
   "source": [
    "## Social Content"
   ]
  },
  {
   "cell_type": "code",
   "execution_count": null,
   "id": "66b3b165-2a4b-46cc-93f7-696dffff1e10",
   "metadata": {
    "height": 183
   },
   "outputs": [],
   "source": [
    "import textwrap\n",
    "\n",
    "posts = result.pydantic.dict()['social_media_posts']\n",
    "for post in posts:\n",
    "    platform = post['platform']\n",
    "    content = post['content']\n",
    "    print(platform)\n",
    "    wrapped_content = textwrap.fill(content, width=50)\n",
    "    print(wrapped_content)\n",
    "    print('-' * 50)"
   ]
  },
  {
   "cell_type": "markdown",
   "id": "bbde59f0-e97a-468c-992c-3ce4faba9bc7",
   "metadata": {},
   "source": [
    "## Blog Post"
   ]
  },
  {
   "cell_type": "code",
   "execution_count": null,
   "id": "6396b0f6-e3ae-4a89-a3e9-ca53aa042c40",
   "metadata": {
    "height": 47
   },
   "outputs": [],
   "source": [
    "from IPython.display import display, Markdown\n",
    "display(Markdown(result.pydantic.dict()['article']))"
   ]
  },
  {
   "cell_type": "code",
   "execution_count": null,
   "id": "b3b8f6a6-ca28-4a48-ae43-56ccf6284b03",
   "metadata": {
    "height": 30
   },
   "outputs": [],
   "source": []
  },
  {
   "cell_type": "code",
   "execution_count": null,
   "id": "da1bbf90-4bfc-4529-84dd-d0bd00198353",
   "metadata": {
    "height": 30
   },
   "outputs": [],
   "source": []
  },
  {
   "cell_type": "code",
   "execution_count": null,
   "id": "4ab95950-d13d-472d-9482-34b564868a9e",
   "metadata": {
    "height": 30
   },
   "outputs": [],
   "source": []
  },
  {
   "cell_type": "code",
   "execution_count": null,
   "id": "91c2f18c-2d5b-41a9-837b-265e7aa245d0",
   "metadata": {
    "height": 30
   },
   "outputs": [],
   "source": []
  },
  {
   "cell_type": "code",
   "execution_count": null,
   "id": "a593fd80-36ef-48a1-a7c7-e45c37815f67",
   "metadata": {
    "height": 30
   },
   "outputs": [],
   "source": []
  },
  {
   "cell_type": "code",
   "execution_count": null,
   "id": "109926d3-50e5-43e7-87f8-a1d38e45d79d",
   "metadata": {
    "height": 30
   },
   "outputs": [],
   "source": []
  }
 ],
 "metadata": {
  "kernelspec": {
   "display_name": "base",
   "language": "python",
   "name": "python3"
  },
  "language_info": {
   "codemirror_mode": {
    "name": "ipython",
    "version": 3
   },
   "file_extension": ".py",
   "mimetype": "text/x-python",
   "name": "python",
   "nbconvert_exporter": "python",
   "pygments_lexer": "ipython3",
   "version": "3.10.8"
  }
 },
 "nbformat": 4,
 "nbformat_minor": 5
}
